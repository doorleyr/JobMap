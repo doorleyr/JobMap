{
 "cells": [
  {
   "cell_type": "markdown",
   "id": "14ff4c12-edfe-4cd7-bfeb-1c3741a1e5d5",
   "metadata": {},
   "source": [
    "# JobMap example\n",
    "#### This notebook will go through an example of the following analysis:\n",
    "    - estimating the distribution of occupations employed by a company of given size and industry\n",
    "    - estimating the average salary of each occupation\n",
    "    - simulating the potential job transitions given a pool of candidates and a pool of available jobs. \n",
    "    - The simulation assumes that:\n",
    "        - candidates can only switch to jobs with similar skills\n",
    "        - candidates would not take a job paying less than their current job"
   ]
  },
  {
   "cell_type": "code",
   "execution_count": 1,
   "id": "fae18857-2aae-44be-b63b-b185085d258e",
   "metadata": {},
   "outputs": [],
   "source": [
    "import pandas as pd\n",
    "import sys\n",
    "sys.path.append('../')\n",
    "import jobmap"
   ]
  },
  {
   "cell_type": "markdown",
   "id": "497e0ad9-8b60-47f2-87cb-4f9c1b8ad212",
   "metadata": {},
   "source": [
    "Download a mapping from SOC to occupation description"
   ]
  },
  {
   "cell_type": "code",
   "execution_count": 2,
   "id": "af856e53-c846-40f4-9b30-735512a1a47b",
   "metadata": {},
   "outputs": [],
   "source": [
    "soc_map=jobmap.get_soc_code_map()"
   ]
  },
  {
   "cell_type": "code",
   "execution_count": 3,
   "id": "ed8e62c3-3725-4f60-ad7f-bac01f0f1a98",
   "metadata": {},
   "outputs": [
    {
     "name": "stdout",
     "output_type": "stream",
     "text": [
      "{'110000': 'Management Occupations', '111000': 'Top Executives', '111010': 'Chief Executives', '111011': 'Chief Executives', '111020': 'General and Operations Managers', '111021': 'General and Operations Managers', '111030': 'Legislators', '111031': 'Legislators', '112000': 'Advertising, Marketing, Promotions, Public Relations, and Sales Managers', '112010': 'Advertising and Promotions Managers'}\n"
     ]
    }
   ],
   "source": [
    "print({k: soc_map[k] for k in list(soc_map.keys())[:10]})"
   ]
  },
  {
   "cell_type": "markdown",
   "id": "cf586d3d-5c6e-4310-b359-a173883e9038",
   "metadata": {},
   "source": [
    "# JobMap"
   ]
  },
  {
   "cell_type": "markdown",
   "id": "f0065956-b807-4e9d-828e-7dd17b99c191",
   "metadata": {},
   "source": [
    "### Create the JobMap object\n",
    "- For this, we need the download the OESM data (all_data_M_2021.xlsx) from BLS. You can download the zip file from https://www.bls.gov/oes/special-requests/oesm21all.zip, load the data as a pandas dataframe and pass it to JobMap as 'bls_data'. If bls_data=None, it will be downloaded (this takes a while)\n",
    "- We also need to specify the state code (eg. 'CA', MA'..)"
   ]
  },
  {
   "cell_type": "code",
   "execution_count": 4,
   "id": "b25c41f8-c9b9-46fe-84a5-83362fbcc086",
   "metadata": {},
   "outputs": [],
   "source": [
    "job_map=jobmap.JobMap(state_code='CA', bls_data=None)"
   ]
  },
  {
   "cell_type": "markdown",
   "id": "47f2312d-16d4-440f-9b35-02a0a0431d17",
   "metadata": {},
   "source": [
    "### Estimate the distribution of occupations per 1000 employed in an industry (or group of industries)"
   ]
  },
  {
   "cell_type": "markdown",
   "id": "efff33e6-e647-4857-8bfc-5597bb53fa12",
   "metadata": {},
   "source": [
    "#### Scientific R&D"
   ]
  },
  {
   "cell_type": "code",
   "execution_count": 5,
   "id": "57afd823-c70a-4703-9b18-e1d2bc32108c",
   "metadata": {},
   "outputs": [
    {
     "name": "stdout",
     "output_type": "stream",
     "text": [
      "41 General and Operations Managers jobs\n",
      "41 Medical Scientists, Except Epidemiologists jobs\n",
      "39 Software Developers jobs\n",
      "37 Social Science Research Assistants jobs\n",
      "27 Natural Sciences Managers jobs\n",
      "24 Project Management Specialists jobs\n",
      "24 Biological Technicians jobs\n",
      "22 Business Operations Specialists, All Other jobs\n",
      "20 Managers, All Other jobs\n",
      "20 Secretaries and Administrative Assistants, Except Legal, Medical, and Executive jobs\n"
     ]
    }
   ],
   "source": [
    "sci_naics_dict={'5417': 1000} \n",
    "sci_soc_dict= job_map.get_employees_by_soc(sci_naics_dict, as_dict=True)\n",
    "sci_top_10_soc = dict(sorted(sci_soc_dict.items(), key=lambda x: x[1], reverse=True)[:10])\n",
    "for soc in sci_top_10_soc:\n",
    "    print('{} {} jobs'.format(sci_top_10_soc[soc], soc_map[soc]))"
   ]
  },
  {
   "cell_type": "markdown",
   "id": "162abde2-2ae2-4165-96ef-e620585cf3cc",
   "metadata": {},
   "source": [
    "#### Grocery and Convenience Retailers"
   ]
  },
  {
   "cell_type": "code",
   "execution_count": 6,
   "id": "e31ee536-bbd5-4827-97d8-94b3319362bc",
   "metadata": {},
   "outputs": [
    {
     "name": "stdout",
     "output_type": "stream",
     "text": [
      "345 Cashiers jobs\n",
      "161 Stockers and Order Fillers jobs\n",
      "100 Retail Salespersons jobs\n",
      "73 First-Line Supervisors of Retail Sales Workers jobs\n",
      "40 Food Preparation Workers jobs\n",
      "30 Fast Food and Counter Workers jobs\n",
      "25 Customer Service Representatives jobs\n",
      "25 Butchers and Meat Cutters jobs\n",
      "24 General and Operations Managers jobs\n",
      "22 Packers and Packagers, Hand jobs\n"
     ]
    }
   ],
   "source": [
    "retail_naics_dict={'4451': 1000} \n",
    "retail_soc_dict= job_map.get_employees_by_soc(retail_naics_dict, as_dict=True)\n",
    "retail_top_10_soc = dict(sorted(retail_soc_dict.items(), key=lambda x: x[1], reverse=True)[:10])\n",
    "for soc in retail_top_10_soc:\n",
    "    print('{} {} jobs'.format(retail_top_10_soc[soc], soc_map[soc]))"
   ]
  },
  {
   "cell_type": "markdown",
   "id": "f5370f2d-6ecc-458a-81e5-532b4f896848",
   "metadata": {},
   "source": [
    "# Job Transitioner"
   ]
  },
  {
   "cell_type": "code",
   "execution_count": 7,
   "id": "5dccdc10-a68c-4da5-9f33-40e305fc0822",
   "metadata": {},
   "outputs": [
    {
     "name": "stdout",
     "output_type": "stream",
     "text": [
      "Downloading career changers matrix from https://www.onetcenter.org\n"
     ]
    }
   ],
   "source": [
    "job_trans=jobmap.JobTransitioner()"
   ]
  },
  {
   "cell_type": "markdown",
   "id": "22c50a1b-44be-4a3b-9d58-68aa63e5d361",
   "metadata": {},
   "source": [
    "### Estimate potential job transitions from a talent pool (existing occupations) to a set of new jobs"
   ]
  },
  {
   "cell_type": "code",
   "execution_count": 8,
   "id": "b3203282-632c-4633-b50a-15e47c699cac",
   "metadata": {},
   "outputs": [
    {
     "name": "stdout",
     "output_type": "stream",
     "text": [
      "Attempting to match 999 jobs from 995 candidates\n",
      "\t 82 matches made\n"
     ]
    }
   ],
   "source": [
    "candidates=pd.DataFrame(job_map.get_job_list(sci_soc_dict))\n",
    "jobs=pd.DataFrame(job_map.get_job_list(retail_soc_dict))\n",
    "\n",
    "candidate_soc_mat=job_trans.soc_list_to_matrix(candidates['soc'])\n",
    "job_soc_mat=job_trans.soc_list_to_matrix(jobs['soc'])\n",
    "\n",
    "# identify any job transitions that would mean a drop in salary\n",
    "ind_salary_decrease=job_trans.get_salary_decrease_mat(\n",
    "    candidates['salary'], jobs['salary'])\n",
    "\n",
    "print('Attempting to match {} jobs from {} candidates'.format(\n",
    "    len(jobs), len(candidates)))\n",
    "transitions=job_trans.match_jobs(\n",
    "    from_soc_mat=candidate_soc_mat,  to_soc_mat=job_soc_mat, \n",
    "    salary_decrease=ind_salary_decrease)\n",
    "print('\\t {} matches made'.format(len(transitions)))"
   ]
  },
  {
   "cell_type": "code",
   "execution_count": 9,
   "id": "0d6521ad-5543-4ae1-9a3c-ab53379e0e90",
   "metadata": {},
   "outputs": [
    {
     "data": {
      "text/html": [
       "<div>\n",
       "<style scoped>\n",
       "    .dataframe tbody tr th:only-of-type {\n",
       "        vertical-align: middle;\n",
       "    }\n",
       "\n",
       "    .dataframe tbody tr th {\n",
       "        vertical-align: top;\n",
       "    }\n",
       "\n",
       "    .dataframe thead th {\n",
       "        text-align: right;\n",
       "    }\n",
       "</style>\n",
       "<table border=\"1\" class=\"dataframe\">\n",
       "  <thead>\n",
       "    <tr style=\"text-align: right;\">\n",
       "      <th></th>\n",
       "      <th>row_ind</th>\n",
       "      <th>col_ind</th>\n",
       "      <th>cost</th>\n",
       "    </tr>\n",
       "  </thead>\n",
       "  <tbody>\n",
       "    <tr>\n",
       "      <th>5</th>\n",
       "      <td>5</td>\n",
       "      <td>1</td>\n",
       "      <td>0.0</td>\n",
       "    </tr>\n",
       "    <tr>\n",
       "      <th>6</th>\n",
       "      <td>6</td>\n",
       "      <td>2</td>\n",
       "      <td>0.0</td>\n",
       "    </tr>\n",
       "    <tr>\n",
       "      <th>7</th>\n",
       "      <td>7</td>\n",
       "      <td>4</td>\n",
       "      <td>0.0</td>\n",
       "    </tr>\n",
       "    <tr>\n",
       "      <th>8</th>\n",
       "      <td>8</td>\n",
       "      <td>5</td>\n",
       "      <td>0.0</td>\n",
       "    </tr>\n",
       "    <tr>\n",
       "      <th>9</th>\n",
       "      <td>9</td>\n",
       "      <td>6</td>\n",
       "      <td>0.0</td>\n",
       "    </tr>\n",
       "    <tr>\n",
       "      <th>...</th>\n",
       "      <td>...</td>\n",
       "      <td>...</td>\n",
       "      <td>...</td>\n",
       "    </tr>\n",
       "    <tr>\n",
       "      <th>980</th>\n",
       "      <td>980</td>\n",
       "      <td>742</td>\n",
       "      <td>0.0</td>\n",
       "    </tr>\n",
       "    <tr>\n",
       "      <th>989</th>\n",
       "      <td>989</td>\n",
       "      <td>149</td>\n",
       "      <td>0.0</td>\n",
       "    </tr>\n",
       "    <tr>\n",
       "      <th>991</th>\n",
       "      <td>991</td>\n",
       "      <td>806</td>\n",
       "      <td>0.0</td>\n",
       "    </tr>\n",
       "    <tr>\n",
       "      <th>992</th>\n",
       "      <td>992</td>\n",
       "      <td>809</td>\n",
       "      <td>0.0</td>\n",
       "    </tr>\n",
       "    <tr>\n",
       "      <th>993</th>\n",
       "      <td>993</td>\n",
       "      <td>808</td>\n",
       "      <td>0.0</td>\n",
       "    </tr>\n",
       "  </tbody>\n",
       "</table>\n",
       "<p>82 rows × 3 columns</p>\n",
       "</div>"
      ],
      "text/plain": [
       "     row_ind  col_ind  cost\n",
       "5          5        1   0.0\n",
       "6          6        2   0.0\n",
       "7          7        4   0.0\n",
       "8          8        5   0.0\n",
       "9          9        6   0.0\n",
       "..       ...      ...   ...\n",
       "980      980      742   0.0\n",
       "989      989      149   0.0\n",
       "991      991      806   0.0\n",
       "992      992      809   0.0\n",
       "993      993      808   0.0\n",
       "\n",
       "[82 rows x 3 columns]"
      ]
     },
     "execution_count": 9,
     "metadata": {},
     "output_type": "execute_result"
    }
   ],
   "source": [
    "transitions"
   ]
  },
  {
   "cell_type": "markdown",
   "id": "0320c327-aa21-48cc-9bb7-1f80673f42f5",
   "metadata": {},
   "source": [
    "# Create a more readable output"
   ]
  },
  {
   "cell_type": "code",
   "execution_count": 10,
   "id": "34994c2f-a76e-4b0e-8c77-27a8364cbefa",
   "metadata": {},
   "outputs": [],
   "source": [
    "transitions=transitions.set_index('col_ind', drop=True)\n",
    "\n",
    "jobs_assignment=jobs.merge(transitions,\n",
    "               left_index=True, right_index=True, how='left').rename(\n",
    "    columns={'soc': 'soc_new', 'salary': 'salary_new'\n",
    "})\n",
    "\n",
    "jobs_assignment=jobs_assignment.dropna(subset=['row_ind']).copy()\n",
    "jobs_assignment['row_ind']=jobs_assignment['row_ind'].astype(int)\n",
    "\n",
    "jobs_assignment=jobs_assignment.merge(\n",
    "    candidates, left_on='row_ind', right_index=True, how='left').rename(\n",
    "    columns={'soc': 'soc_old', 'salary': 'salary_old'\n",
    "})"
   ]
  },
  {
   "cell_type": "code",
   "execution_count": 11,
   "id": "7d94ee47-e867-46ee-b449-c7ae562fb4f7",
   "metadata": {},
   "outputs": [
    {
     "data": {
      "text/html": [
       "<div>\n",
       "<style scoped>\n",
       "    .dataframe tbody tr th:only-of-type {\n",
       "        vertical-align: middle;\n",
       "    }\n",
       "\n",
       "    .dataframe tbody tr th {\n",
       "        vertical-align: top;\n",
       "    }\n",
       "\n",
       "    .dataframe thead th {\n",
       "        text-align: right;\n",
       "    }\n",
       "</style>\n",
       "<table border=\"1\" class=\"dataframe\">\n",
       "  <thead>\n",
       "    <tr style=\"text-align: right;\">\n",
       "      <th></th>\n",
       "      <th>soc_new</th>\n",
       "      <th>salary_new</th>\n",
       "      <th>row_ind</th>\n",
       "      <th>cost</th>\n",
       "      <th>soc_old</th>\n",
       "      <th>salary_old</th>\n",
       "    </tr>\n",
       "  </thead>\n",
       "  <tbody>\n",
       "    <tr>\n",
       "      <th>0</th>\n",
       "      <td>111021</td>\n",
       "      <td>107850.0</td>\n",
       "      <td>27</td>\n",
       "      <td>0.0</td>\n",
       "      <td>111021</td>\n",
       "      <td>107850.0</td>\n",
       "    </tr>\n",
       "    <tr>\n",
       "      <th>1</th>\n",
       "      <td>111021</td>\n",
       "      <td>107850.0</td>\n",
       "      <td>5</td>\n",
       "      <td>0.0</td>\n",
       "      <td>111021</td>\n",
       "      <td>107850.0</td>\n",
       "    </tr>\n",
       "    <tr>\n",
       "      <th>2</th>\n",
       "      <td>111021</td>\n",
       "      <td>107850.0</td>\n",
       "      <td>6</td>\n",
       "      <td>0.0</td>\n",
       "      <td>111021</td>\n",
       "      <td>107850.0</td>\n",
       "    </tr>\n",
       "    <tr>\n",
       "      <th>3</th>\n",
       "      <td>111021</td>\n",
       "      <td>107850.0</td>\n",
       "      <td>28</td>\n",
       "      <td>0.0</td>\n",
       "      <td>111021</td>\n",
       "      <td>107850.0</td>\n",
       "    </tr>\n",
       "    <tr>\n",
       "      <th>4</th>\n",
       "      <td>111021</td>\n",
       "      <td>107850.0</td>\n",
       "      <td>7</td>\n",
       "      <td>0.0</td>\n",
       "      <td>111021</td>\n",
       "      <td>107850.0</td>\n",
       "    </tr>\n",
       "    <tr>\n",
       "      <th>...</th>\n",
       "      <td>...</td>\n",
       "      <td>...</td>\n",
       "      <td>...</td>\n",
       "      <td>...</td>\n",
       "      <td>...</td>\n",
       "      <td>...</td>\n",
       "    </tr>\n",
       "    <tr>\n",
       "      <th>743</th>\n",
       "      <td>511011</td>\n",
       "      <td>62620.0</td>\n",
       "      <td>979</td>\n",
       "      <td>0.0</td>\n",
       "      <td>511011</td>\n",
       "      <td>62620.0</td>\n",
       "    </tr>\n",
       "    <tr>\n",
       "      <th>806</th>\n",
       "      <td>533033</td>\n",
       "      <td>42610.0</td>\n",
       "      <td>991</td>\n",
       "      <td>0.0</td>\n",
       "      <td>537051</td>\n",
       "      <td>38980.0</td>\n",
       "    </tr>\n",
       "    <tr>\n",
       "      <th>807</th>\n",
       "      <td>536031</td>\n",
       "      <td>30950.0</td>\n",
       "      <td>971</td>\n",
       "      <td>0.0</td>\n",
       "      <td>452092</td>\n",
       "      <td>29680.0</td>\n",
       "    </tr>\n",
       "    <tr>\n",
       "      <th>808</th>\n",
       "      <td>537062</td>\n",
       "      <td>36650.0</td>\n",
       "      <td>993</td>\n",
       "      <td>0.0</td>\n",
       "      <td>537062</td>\n",
       "      <td>36650.0</td>\n",
       "    </tr>\n",
       "    <tr>\n",
       "      <th>809</th>\n",
       "      <td>537062</td>\n",
       "      <td>36650.0</td>\n",
       "      <td>992</td>\n",
       "      <td>0.0</td>\n",
       "      <td>537062</td>\n",
       "      <td>36650.0</td>\n",
       "    </tr>\n",
       "  </tbody>\n",
       "</table>\n",
       "<p>82 rows × 6 columns</p>\n",
       "</div>"
      ],
      "text/plain": [
       "    soc_new  salary_new  row_ind  cost soc_old  salary_old\n",
       "0    111021    107850.0       27   0.0  111021    107850.0\n",
       "1    111021    107850.0        5   0.0  111021    107850.0\n",
       "2    111021    107850.0        6   0.0  111021    107850.0\n",
       "3    111021    107850.0       28   0.0  111021    107850.0\n",
       "4    111021    107850.0        7   0.0  111021    107850.0\n",
       "..      ...         ...      ...   ...     ...         ...\n",
       "743  511011     62620.0      979   0.0  511011     62620.0\n",
       "806  533033     42610.0      991   0.0  537051     38980.0\n",
       "807  536031     30950.0      971   0.0  452092     29680.0\n",
       "808  537062     36650.0      993   0.0  537062     36650.0\n",
       "809  537062     36650.0      992   0.0  537062     36650.0\n",
       "\n",
       "[82 rows x 6 columns]"
      ]
     },
     "execution_count": 11,
     "metadata": {},
     "output_type": "execute_result"
    }
   ],
   "source": [
    "jobs_assignment"
   ]
  },
  {
   "cell_type": "markdown",
   "id": "993c8ea1-925a-45b7-b54d-9dbae1b047a4",
   "metadata": {},
   "source": [
    "# Visualize Job Transitions"
   ]
  },
  {
   "cell_type": "code",
   "execution_count": 29,
   "id": "d6c2db28-38c1-4369-b36d-6cbd22c6db2c",
   "metadata": {},
   "outputs": [],
   "source": [
    "import plotly.graph_objects as go\n",
    "import plotly"
   ]
  },
  {
   "cell_type": "code",
   "execution_count": 30,
   "id": "05e09398-fc33-49f2-b21d-7c589051939a",
   "metadata": {},
   "outputs": [],
   "source": [
    "job_od=jobs_assignment.groupby(\n",
    "    ['soc_old', 'soc_new']).size().reset_index(drop=False)"
   ]
  },
  {
   "cell_type": "code",
   "execution_count": 35,
   "id": "a525667b-a47e-4682-bde6-db249f8e1414",
   "metadata": {},
   "outputs": [],
   "source": [
    "source_labels=[soc_map[s] + '_s' for s in job_od['soc_old'].unique()]\n",
    "target_labels=[soc_map[t] + '_t' for t in job_od['soc_new'].unique()]\n",
    "all_labels=source_labels+target_labels\n",
    "value=list(job_od[0])\n",
    "\n",
    "source=[all_labels.index(soc_map[s] + '_s') for s in job_od['soc_old']]\n",
    "target=[all_labels.index(soc_map[t] + '_t') for t in job_od['soc_new']]\n",
    "\n",
    "fig = go.Figure(data=[go.Sankey(textfont = dict(color=\"white\"),\n",
    "    node=dict(\n",
    "        thickness=10,  # default is 20\n",
    "        line=dict(color=\"white\", width=0.5),\n",
    "        label=[l.split('_')[0] for l in all_labels],\n",
    "        color=\"blue\"\n",
    "    ),\n",
    "    link=dict(\n",
    "        source=source,\n",
    "        target=target,\n",
    "        value=value,\n",
    "        label=[l.split('_')[0] for l in all_labels],\n",
    "        hovertemplate='%{value} from %{source.label} to %{target.label}.<br />'\n",
    "    ))])\n",
    "\n",
    "# fig.update_layout(autosize=True)\n",
    "# fig.show()\n",
    "\n",
    "fig.update_layout(\n",
    "#         autosize=True,\n",
    "    width=1000,\n",
    "    height=len(source)*30,\n",
    "plot_bgcolor = 'black',\n",
    "paper_bgcolor = 'black')\n",
    "\n",
    "fig.show(renderer='browser')"
   ]
  },
  {
   "cell_type": "code",
   "execution_count": 34,
   "id": "1f95681e-d0e6-43ac-ad76-bf2574e47dcb",
   "metadata": {},
   "outputs": [],
   "source": [
    "# import plotly.offline as pyo\n",
    "# import plotly.graph_objs as go\n",
    "# # Set notebook mode to work in offline\n",
    "# pyo.init_notebook_mode()\n",
    "# pyo.iplot(fig)"
   ]
  },
  {
   "cell_type": "code",
   "execution_count": null,
   "id": "bc672339-3815-49a4-ab6c-17a8bf37d927",
   "metadata": {},
   "outputs": [],
   "source": []
  },
  {
   "cell_type": "code",
   "execution_count": null,
   "id": "0ab1a47e-f5e7-4b83-9755-f67ccb27f8cb",
   "metadata": {},
   "outputs": [],
   "source": []
  }
 ],
 "metadata": {
  "kernelspec": {
   "display_name": "Python [conda env:epa]",
   "language": "python",
   "name": "conda-env-epa-py"
  },
  "language_info": {
   "codemirror_mode": {
    "name": "ipython",
    "version": 3
   },
   "file_extension": ".py",
   "mimetype": "text/x-python",
   "name": "python",
   "nbconvert_exporter": "python",
   "pygments_lexer": "ipython3",
   "version": "3.7.11"
  }
 },
 "nbformat": 4,
 "nbformat_minor": 5
}
